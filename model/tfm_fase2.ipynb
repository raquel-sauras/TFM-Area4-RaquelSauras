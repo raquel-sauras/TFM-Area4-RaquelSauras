{
 "cells": [
  {
   "cell_type": "markdown",
   "metadata": {
    "id": "Qj49mVXN2wNN"
   },
   "source": [
    "# Preparing environment"
   ]
  },
  {
   "cell_type": "markdown",
   "metadata": {
    "id": "UcL2uVmGe-bL"
   },
   "source": [
    "## Importation"
   ]
  },
  {
   "cell_type": "code",
   "execution_count": 1,
   "metadata": {
    "executionInfo": {
     "elapsed": 3175,
     "status": "ok",
     "timestamp": 1639084408363,
     "user": {
      "displayName": "Raquel Sauras Salas",
      "photoUrl": "https://lh3.googleusercontent.com/a/default-user=s64",
      "userId": "14105029251468193778"
     },
     "user_tz": -60
    },
    "id": "rI_-XlcXnOIm"
   },
   "outputs": [],
   "source": [
    "import os\n",
    "from os.path import join\n",
    "import matplotlib.pyplot as plt\n",
    "import tensorflow as tf"
   ]
  },
  {
   "cell_type": "markdown",
   "metadata": {
    "id": "n1NGvAZF1d-7"
   },
   "source": []
  },
  {
   "cell_type": "markdown",
   "metadata": {
    "id": "_RfUsoPtfPdK"
   },
   "source": [
    "## Configuration"
   ]
  },
  {
   "cell_type": "code",
   "execution_count": 2,
   "metadata": {
    "id": "XOHWPV-Noj77"
   },
   "outputs": [],
   "source": [
    "# Resizing\n",
    "img_height = 32\n",
    "img_width = 32\n",
    "channels = 3\n",
    "batch_size = 32\n",
    "epochs = 20\n",
    "color_mode='rgb'\n",
    "\n",
    "dataset_path = \"./chest_xray\"\n",
    "AUTOTUNE = tf.data.AUTOTUNE\n"
   ]
  },
  {
   "cell_type": "markdown",
   "metadata": {
    "id": "el9SwPbAfOOn"
   },
   "source": [
    "## Functions "
   ]
  },
  {
   "cell_type": "code",
   "execution_count": 3,
   "metadata": {
    "id": "bSOUMii2otb6"
   },
   "outputs": [],
   "source": [
    "# Function to show images\n",
    "def show_images(class_names, dataset):\n",
    "    plt.figure(figsize=(10, 10))\n",
    "    for images, labels in dataset.take(1):\n",
    "        for i in range(9):\n",
    "            ax = plt.subplot(3, 3, i + 1)\n",
    "            plt.imshow(images[i].numpy().astype(\"uint8\"))\n",
    "            plt.title(class_names[labels[i]])\n",
    "            plt.axis(\"off\")\n",
    "    plt.show()\n",
    "\n",
    "\n",
    "# Function to normalize datasets\n",
    "def normalize_dataset(dataset):\n",
    "  normalize_layer = tf.keras.layers.Reshape(target_shape=(-1, img_width, img_height, channels))\n",
    "  dataset = dataset.map(lambda x, y: (normalize_layer(x), y))\n",
    "  normalize_layer = tf.keras.layers.Rescaling(1. / 255)\n",
    "  return dataset.map(lambda x, y: (normalize_layer(x), y))\n",
    "\n"
   ]
  },
  {
   "cell_type": "markdown",
   "metadata": {
    "id": "Wa2OQoL63DV9"
   },
   "source": [
    "# Datasets environment"
   ]
  },
  {
   "cell_type": "markdown",
   "metadata": {
    "id": "b0PrNqhjfmP0"
   },
   "source": [
    "## Classification datasets"
   ]
  },
  {
   "cell_type": "code",
   "execution_count": 4,
   "metadata": {
    "colab": {
     "base_uri": "https://localhost:8080/"
    },
    "executionInfo": {
     "elapsed": 841,
     "status": "ok",
     "timestamp": 1639062350058,
     "user": {
      "displayName": "Raquel Sauras Salas",
      "photoUrl": "https://lh3.googleusercontent.com/a/default-user=s64",
      "userId": "14105029251468193778"
     },
     "user_tz": -60
    },
    "id": "3RSeZBNHo0qU",
    "outputId": "4f9a4a19-9bf2-412b-cde2-d4a1106f7cc5"
   },
   "outputs": [
    {
     "name": "stdout",
     "output_type": "stream",
     "text": [
      "Found 5216 files belonging to 3 classes.\n",
      "Metal device set to: AMD Radeon Pro 560\n",
      "Found 16 files belonging to 2 classes.\n",
      "Found 624 files belonging to 3 classes.\n",
      "Train classes ['NORMAL', 'PNEUMONIA BACTERIA', 'PNEUMONIA VIRUS']\n",
      "Total number of outputs :  3\n",
      "Validation classes ['NORMAL', 'PNEUMONIA BACTERIA']\n",
      "Total number of validation outputs :  2\n",
      "Test classes ['NORMAL', 'PNEUMONIA BACTERIA', 'PNEUMONIA VIRUS']\n",
      "Total number of outputs :  3\n"
     ]
    },
    {
     "name": "stderr",
     "output_type": "stream",
     "text": [
      "2021-12-13 22:16:50.587842: I tensorflow/core/platform/cpu_feature_guard.cc:151] This TensorFlow binary is optimized with oneAPI Deep Neural Network Library (oneDNN) to use the following CPU instructions in performance-critical operations:  AVX2 FMA\n",
      "To enable them in other operations, rebuild TensorFlow with the appropriate compiler flags.\n",
      "2021-12-13 22:16:50.588694: I tensorflow/core/common_runtime/pluggable_device/pluggable_device_factory.cc:305] Could not identify NUMA node of platform GPU ID 0, defaulting to 0. Your kernel may not have been built with NUMA support.\n",
      "2021-12-13 22:16:50.588946: I tensorflow/core/common_runtime/pluggable_device/pluggable_device_factory.cc:271] Created TensorFlow device (/job:localhost/replica:0/task:0/device:GPU:0 with 0 MB memory) -> physical PluggableDevice (device: 0, name: METAL, pci bus id: <undefined>)\n"
     ]
    }
   ],
   "source": [
    "# Classifying train dataset in 3 labels\n",
    "train_ds = tf.keras.preprocessing.image_dataset_from_directory(\n",
    "    join(dataset_path, \"train\"),\n",
    "    color_mode=color_mode,\n",
    "    image_size=(img_height, img_width),\n",
    "    batch_size=batch_size)\n",
    "\n",
    "#train_ds = train_ds.astype('float32')\n",
    "#train_ds = train_ds / 255.\n",
    "\n",
    "validation_ds = tf.keras.preprocessing.image_dataset_from_directory(\n",
    "    join(dataset_path, \"val\"),\n",
    "    color_mode=color_mode,\n",
    "    image_size=(img_height, img_width),\n",
    "    batch_size=batch_size)\n",
    "\n",
    "# Classifying test dataset in 3 labels\n",
    "test_ds = tf.keras.preprocessing.image_dataset_from_directory(\n",
    "    join(dataset_path, \"test\"),\n",
    "    color_mode=color_mode,\n",
    "    image_size=(img_height, img_width),\n",
    "    batch_size=batch_size)\n",
    "#test_ds = test_ds.astype('float32')\n",
    "#test_ds = test_ds / 255.\n",
    "\n",
    "# Showing found labels\n",
    "class_names = train_ds.class_names\n",
    "nClasses = len(class_names)\n",
    "print(\"Train classes\", class_names)\n",
    "print('Total number of outputs : ', nClasses)\n",
    "\n",
    "print(\"Validation classes\", validation_ds.class_names)\n",
    "print('Total number of validation outputs : ', len(validation_ds.class_names))\n",
    "\n",
    "print(\"Test classes\", test_ds.class_names)\n",
    "print('Total number of outputs : ', len(test_ds.class_names))\n",
    "\n",
    "# Showing 10 images from de training set already resized\n",
    "#show_images(class_names, train_ds)"
   ]
  },
  {
   "cell_type": "markdown",
   "metadata": {
    "id": "pYlSKtFOfslV"
   },
   "source": [
    "## Normalizing datasets"
   ]
  },
  {
   "cell_type": "code",
   "execution_count": 5,
   "metadata": {
    "id": "5Gz1mtoMo2Fq"
   },
   "outputs": [],
   "source": [
    "# Normalizing training and test datasets\n",
    "normalized_train_ds = normalize_dataset(train_ds)\n",
    "normalized_validation_ds = normalize_dataset(validation_ds)\n",
    "normalized_test_ds = normalize_dataset(test_ds)"
   ]
  },
  {
   "cell_type": "markdown",
   "metadata": {
    "id": "VHRRVsh-35Xe"
   },
   "source": [
    "# CNN Model"
   ]
  },
  {
   "cell_type": "markdown",
   "metadata": {
    "id": "4fyhwG9lPtiq"
   },
   "source": [
    "## Training the model"
   ]
  },
  {
   "cell_type": "code",
   "execution_count": 6,
   "metadata": {
    "colab": {
     "base_uri": "https://localhost:8080/"
    },
    "executionInfo": {
     "elapsed": 1281168,
     "status": "ok",
     "timestamp": 1639063650146,
     "user": {
      "displayName": "Raquel Sauras Salas",
      "photoUrl": "https://lh3.googleusercontent.com/a/default-user=s64",
      "userId": "14105029251468193778"
     },
     "user_tz": -60
    },
    "id": "4ieF3xeaHjzm",
    "outputId": "f1b60e52-6de7-4e1e-85c6-aaffe1dc6569"
   },
   "outputs": [
    {
     "name": "stdout",
     "output_type": "stream",
     "text": [
      "Model: \"sequential\"\n",
      "_________________________________________________________________\n",
      " Layer (type)                Output Shape              Param #   \n",
      "=================================================================\n",
      " rescaling_3 (Rescaling)     (None, 32, 32, 3)         0         \n",
      "                                                                 \n",
      " conv2d (Conv2D)             (None, 30, 30, 32)        896       \n",
      "                                                                 \n",
      " max_pooling2d (MaxPooling2D  (None, 15, 15, 32)       0         \n",
      " )                                                               \n",
      "                                                                 \n",
      " conv2d_1 (Conv2D)           (None, 13, 13, 64)        18496     \n",
      "                                                                 \n",
      " max_pooling2d_1 (MaxPooling  (None, 6, 6, 64)         0         \n",
      " 2D)                                                             \n",
      "                                                                 \n",
      " conv2d_2 (Conv2D)           (None, 4, 4, 64)          36928     \n",
      "                                                                 \n",
      " flatten (Flatten)           (None, 1024)              0         \n",
      "                                                                 \n",
      " dense (Dense)               (None, 64)                65600     \n",
      "                                                                 \n",
      " dense_1 (Dense)             (None, 1)                 65        \n",
      "                                                                 \n",
      "=================================================================\n",
      "Total params: 121,985\n",
      "Trainable params: 121,985\n",
      "Non-trainable params: 0\n",
      "_________________________________________________________________\n",
      "Epoch 1/20\n"
     ]
    },
    {
     "name": "stderr",
     "output_type": "stream",
     "text": [
      "2021-12-13 22:16:51.671298: I tensorflow/core/grappler/optimizers/custom_graph_optimizer_registry.cc:112] Plugin optimizer for device_type GPU is enabled.\n"
     ]
    },
    {
     "name": "stdout",
     "output_type": "stream",
     "text": [
      "163/163 [==============================] - ETA: 0s - loss: 0.8169 - accuracy: 0.6262"
     ]
    },
    {
     "name": "stderr",
     "output_type": "stream",
     "text": [
      "2021-12-13 22:17:11.769630: I tensorflow/core/grappler/optimizers/custom_graph_optimizer_registry.cc:112] Plugin optimizer for device_type GPU is enabled.\n"
     ]
    },
    {
     "name": "stdout",
     "output_type": "stream",
     "text": [
      "163/163 [==============================] - 25s 142ms/step - loss: 0.8169 - accuracy: 0.6262 - val_loss: 0.8942 - val_accuracy: 0.6699\n",
      "Epoch 2/20\n",
      "163/163 [==============================] - 32s 190ms/step - loss: 0.5312 - accuracy: 0.7680 - val_loss: 0.7478 - val_accuracy: 0.7308\n",
      "Epoch 3/20\n",
      "163/163 [==============================] - 29s 168ms/step - loss: 0.4844 - accuracy: 0.7847 - val_loss: 1.1563 - val_accuracy: 0.6218\n",
      "Epoch 4/20\n",
      "163/163 [==============================] - 24s 138ms/step - loss: 0.4705 - accuracy: 0.7905 - val_loss: 1.1078 - val_accuracy: 0.6843\n",
      "Epoch 5/20\n",
      "163/163 [==============================] - 20s 116ms/step - loss: 0.4359 - accuracy: 0.8027 - val_loss: 1.0756 - val_accuracy: 0.6971\n",
      "Epoch 6/20\n",
      "163/163 [==============================] - 22s 129ms/step - loss: 0.4213 - accuracy: 0.8158 - val_loss: 1.2213 - val_accuracy: 0.6843\n",
      "Epoch 7/20\n",
      "163/163 [==============================] - 20s 116ms/step - loss: 0.4100 - accuracy: 0.8169 - val_loss: 1.4730 - val_accuracy: 0.6458\n",
      "Epoch 8/20\n",
      "163/163 [==============================] - 18s 108ms/step - loss: 0.3889 - accuracy: 0.8242 - val_loss: 1.5143 - val_accuracy: 0.6490\n",
      "Epoch 9/20\n",
      "163/163 [==============================] - 21s 124ms/step - loss: 0.3775 - accuracy: 0.8288 - val_loss: 1.0655 - val_accuracy: 0.7292\n",
      "Epoch 10/20\n",
      "163/163 [==============================] - 20s 119ms/step - loss: 0.3626 - accuracy: 0.8353 - val_loss: 1.6691 - val_accuracy: 0.6282\n",
      "Epoch 11/20\n",
      "163/163 [==============================] - 19s 109ms/step - loss: 0.3475 - accuracy: 0.8413 - val_loss: 1.5685 - val_accuracy: 0.6779\n",
      "Epoch 12/20\n",
      "163/163 [==============================] - 21s 126ms/step - loss: 0.3375 - accuracy: 0.8453 - val_loss: 1.2581 - val_accuracy: 0.7099\n",
      "Epoch 13/20\n",
      "163/163 [==============================] - 20s 117ms/step - loss: 0.3312 - accuracy: 0.8508 - val_loss: 1.6455 - val_accuracy: 0.6843\n",
      "Epoch 14/20\n",
      "163/163 [==============================] - 19s 114ms/step - loss: 0.3121 - accuracy: 0.8600 - val_loss: 1.6502 - val_accuracy: 0.6619\n",
      "Epoch 15/20\n",
      "163/163 [==============================] - 21s 127ms/step - loss: 0.2909 - accuracy: 0.8696 - val_loss: 2.2995 - val_accuracy: 0.6170\n",
      "Epoch 16/20\n",
      "163/163 [==============================] - 19s 113ms/step - loss: 0.2761 - accuracy: 0.8762 - val_loss: 1.7509 - val_accuracy: 0.6795\n",
      "Epoch 17/20\n",
      "163/163 [==============================] - 18s 108ms/step - loss: 0.2603 - accuracy: 0.8857 - val_loss: 2.0194 - val_accuracy: 0.6811\n",
      "Epoch 18/20\n",
      "163/163 [==============================] - 21s 125ms/step - loss: 0.2378 - accuracy: 0.8972 - val_loss: 2.6532 - val_accuracy: 0.6474\n",
      "Epoch 19/20\n",
      "163/163 [==============================] - 19s 113ms/step - loss: 0.2173 - accuracy: 0.9099 - val_loss: 3.1373 - val_accuracy: 0.6122\n",
      "Epoch 20/20\n",
      "163/163 [==============================] - 18s 108ms/step - loss: 0.2017 - accuracy: 0.9135 - val_loss: 1.8305 - val_accuracy: 0.7115\n"
     ]
    }
   ],
   "source": [
    "from tensorflow.keras import datasets, layers, models\n",
    "\n",
    "# Defining the model\n",
    "# model = models.Sequential()\n",
    "# model.add(layers.Rescaling(1./255, input_shape=(img_height, img_width, channels)))\n",
    "# model.add(layers.Conv2D(32, (3, 3), activation='relu', input_shape=(img_width, img_height, channels)))\n",
    "# model.add(layers.MaxPooling2D((2, 2)))\n",
    "# model.add(layers.Conv2D(64, (3, 3), activation='relu'))\n",
    "# model.add(layers.MaxPooling2D((2, 2)))\n",
    "# model.add(layers.Conv2D(64, (3, 3), activation='relu'))\n",
    "# model.add(layers.Flatten())\n",
    "# model.add(layers.Dense(64, activation='relu'))\n",
    "# model.add(layers.Dense(1))\n",
    "#\n",
    "# # Compiling the model\n",
    "# model.compile(loss=tf.keras.losses.categorical_crossentropy, optimizer=tf.keras.optimizers.Adam(), metrics=['accuracy'])\n",
    "# model.summary()\n",
    "#\n",
    "# # Training the model\n",
    "# #history = model.fit(train_ds, batch_size=batch_size, epochs=epochs, verbose=1, validation_data=test_ds)\n",
    "#\n",
    "\n",
    "num_classes = len(class_names)\n",
    "\n",
    "model = models.Sequential([\n",
    "  layers.Rescaling(1./255, input_shape=(img_height, img_width, channels)),\n",
    "  layers.Conv2D(16, 3, padding='same', activation='relu'),\n",
    "  layers.MaxPooling2D(),\n",
    "  layers.Conv2D(32, 3, padding='same', activation='relu'),\n",
    "  layers.MaxPooling2D(),\n",
    "  layers.Conv2D(64, 3, padding='same', activation='relu'),\n",
    "  layers.MaxPooling2D(),\n",
    "  layers.Flatten(),\n",
    "  layers.Dense(128, activation='relu'),\n",
    "  layers.Dense(num_classes)\n",
    "])\n",
    "\n",
    "model.compile(optimizer='adam', loss=tf.keras.losses.SparseCategoricalCrossentropy(from_logits=True), metrics=['accuracy'])\n",
    "\n",
    "history = model.fit(train_ds, validation_data=test_ds,epochs=epochs)\n"
   ]
  },
  {
   "cell_type": "code",
   "execution_count": 7,
   "metadata": {
    "colab": {
     "base_uri": "https://localhost:8080/",
     "height": 300
    },
    "executionInfo": {
     "elapsed": 716,
     "status": "ok",
     "timestamp": 1639063722411,
     "user": {
      "displayName": "Raquel Sauras Salas",
      "photoUrl": "https://lh3.googleusercontent.com/a/default-user=s64",
      "userId": "14105029251468193778"
     },
     "user_tz": -60
    },
    "id": "mVZvc_Pucn9Y",
    "outputId": "63c17d3a-99e4-46f5-8d36-3dae199ea682"
   },
   "outputs": [
    {
     "data": {
      "text/plain": "<Figure size 576x576 with 2 Axes>",
      "image/png": "[encoded data removed]"
     },
     "metadata": {
      "needs_background": "light"
     },
     "output_type": "display_data"
    }
   ],
   "source": [
    "acc = history.history['accuracy']\n",
    "val_acc = history.history['val_accuracy']\n",
    "\n",
    "loss = history.history['loss']\n",
    "val_loss = history.history['val_loss']\n",
    "\n",
    "epochs_range = range(epochs)\n",
    "\n",
    "plt.figure(figsize=(8, 8))\n",
    "plt.subplot(1, 2, 1)\n",
    "plt.plot(epochs_range, acc, label='Training Accuracy')\n",
    "plt.plot(epochs_range, val_acc, label='Validation Accuracy')\n",
    "plt.legend(loc='lower right')\n",
    "plt.title('Training and Validation Accuracy')\n",
    "\n",
    "plt.subplot(1, 2, 2)\n",
    "plt.plot(epochs_range, loss, label='Training Loss')\n",
    "plt.plot(epochs_range, val_loss, label='Validation Loss')\n",
    "plt.legend(loc='upper right')\n",
    "plt.title('Training and Validation Loss')\n",
    "plt.show()\n",
    "\n",
    "\n",
    "#plt.plot(history.history['accuracy'], label='accuracy')\n",
    "#plt.plot(history.history['val_accuracy'], label = 'val_accuracy')\n",
    "#plt.xlabel('Epoch')\n",
    "#plt.ylabel('Accuracy')\n",
    "#plt.ylim([0, 1])\n",
    "#plt.legend(loc='lower right')"
   ]
  },
  {
   "cell_type": "code",
   "execution_count": 8,
   "metadata": {},
   "outputs": [],
   "source": [
    "# Los gráficos muestran que la precisión del entrenamiento y la precisión de la validación están fuera de lugar por grandes márgenes, y el modelo ha logrado solo alrededor del 60% de precisión en el conjunto de validación.\n",
    "\n",
    "# Inspeccionemos qué salió mal e intentemos aumentar el rendimiento general del modelo."
   ]
  },
  {
   "cell_type": "markdown",
   "metadata": {
    "id": "a2sEjreSde98"
   },
   "source": [
    "## Evaluating test dataset\n"
   ]
  },
  {
   "cell_type": "code",
   "execution_count": 9,
   "metadata": {
    "colab": {
     "base_uri": "https://localhost:8080/"
    },
    "executionInfo": {
     "elapsed": 72900,
     "status": "ok",
     "timestamp": 1639063800167,
     "user": {
      "displayName": "Raquel Sauras Salas",
      "photoUrl": "https://lh3.googleusercontent.com/a/default-user=s64",
      "userId": "14105029251468193778"
     },
     "user_tz": -60
    },
    "id": "hhMqc5gRc7vG",
    "outputId": "8cfb787b-537f-4f12-ef58-464a72ba1ff6"
   },
   "outputs": [
    {
     "name": "stdout",
     "output_type": "stream",
     "text": [
      "1/1 - 0s - loss: 1.0710 - accuracy: 0.6875 - 71ms/epoch - 71ms/step\n",
      "0.6875\n"
     ]
    }
   ],
   "source": [
    "test_loss, test_acc = model.evaluate(validation_ds, verbose=2)\n",
    "\n",
    "print(test_acc)\n"
   ]
  },
  {
   "cell_type": "code",
   "execution_count": 22,
   "metadata": {},
   "outputs": [],
   "source": [
    "data_augmentation = tf.keras.Sequential(\n",
    "  [\n",
    "    layers.RandomFlip(\"horizontal\", input_shape=(img_height, img_width, channels)),\n",
    "    layers.RandomRotation(0.1),\n",
    "    layers.RandomZoom(0.1),\n",
    "  ]\n",
    ")\n",
    "\n",
    "def resize_and_rescale(image):\n",
    "  image = tf.cast(image, tf.float32)\n",
    "  image = tf.image.resize(image, [img_width, img_height])\n",
    "  image = (image / 255.0)\n",
    "  return image\n",
    "\n",
    "def prepare(ds, shuffle=False, augment=False):\n",
    "  # Resize and rescale all datasets.\n",
    "\n",
    "  if shuffle:\n",
    "    ds = ds.shuffle(1000)\n",
    "\n",
    "  # Use data augmentation only on the training set.\n",
    "  if augment:\n",
    "    ds = ds.map(lambda x, y: (data_augmentation(x, training=True), y), num_parallel_calls=AUTOTUNE)\n",
    "\n",
    "  # Use buffered prefetching on all datasets.\n",
    "  # return ds.prefetch(buffer_size=AUTOTUNE)\n",
    "  return ds\n",
    "\n",
    "\n",
    "#plt.figure(figsize=(10, 10))\n",
    "#for images, _ in train_ds.take(1):\n",
    " # for i in range(9):\n",
    "  #  augmented_images = data_augmentation(images)\n",
    "   # ax = plt.subplot(3, 3, i + 1)\n",
    "    #plt.imshow(augmented_images[0].numpy().astype(\"uint8\"))\n",
    "    #plt.axis(\"off\")\n",
    "\n",
    "augmented_train_ds = prepare(train_ds, shuffle=True, augment=True)\n"
   ]
  },
  {
   "cell_type": "code",
   "execution_count": 25,
   "metadata": {},
   "outputs": [],
   "source": [
    "# model = models.Sequential()\n",
    "# #model.add(data_augmentation)\n",
    "# model.add(layers.Rescaling(1./255))\n",
    "# model.add(layers.Conv2D(16, 3, padding='same', activation='relu'))\n",
    "# model.add(layers.MaxPooling2D())\n",
    "# model.add(layers.Conv2D(32, 3, padding='same', activation='relu'))\n",
    "# model.add(layers.MaxPooling2D())\n",
    "# model.add(layers.Conv2D(64, 3, padding='same', activation='relu'))\n",
    "# model.add(layers.MaxPooling2D())\n",
    "# model.add(layers.Dropout(0.2))\n",
    "# model.add(layers.Flatten())\n",
    "# model.add(layers.Dense(128, activation='relu'))\n",
    "# model.add(layers.Dense(num_classes))\n",
    "\n",
    "model = models.Sequential([\n",
    "  layers.Rescaling(1./255),\n",
    "  layers.Conv2D(16, 3, padding='same', activation='relu'),\n",
    "  layers.MaxPooling2D(),\n",
    "  layers.Conv2D(32, 3, padding='same', activation='relu'),\n",
    "  layers.MaxPooling2D(),\n",
    "  layers.Conv2D(64, 3, padding='same', activation='relu'),\n",
    "  layers.MaxPooling2D(),\n",
    "  layers.Dropout(0.2),\n",
    "  layers.Flatten(),\n",
    "  layers.Dense(128, activation='relu'),\n",
    "  layers.Dense(num_classes)\n",
    "])\n",
    "model.compile(optimizer='adam',\n",
    "              loss=tf.keras.losses.SparseCategoricalCrossentropy(from_logits=True),\n",
    "              metrics=['accuracy'])\n"
   ]
  },
  {
   "cell_type": "code",
   "execution_count": 26,
   "metadata": {},
   "outputs": [
    {
     "ename": "InvalidArgumentError",
     "evalue": "Cannot assign a device for operation sequential_12/random_flip_7/stateful_uniform_full_int/RngReadAndSkip: Could not satisfy explicit device specification '' because the node {{colocation_node sequential_12/random_flip_7/stateful_uniform_full_int/RngReadAndSkip}} was colocated with a group of nodes that required incompatible device '/job:localhost/replica:0/task:0/device:GPU:0'. All available devices [/job:localhost/replica:0/task:0/device:CPU:0, /job:localhost/replica:0/task:0/device:GPU:0]. \nColocation Debug Info:\nColocation group had the following types and supported devices: \nRoot Member(assigned_device_name_index_=2 requested_device_name_='/job:localhost/replica:0/task:0/device:GPU:0' assigned_device_name_='/job:localhost/replica:0/task:0/device:GPU:0' resource_device_name_='/job:localhost/replica:0/task:0/device:GPU:0' supported_device_types_=[CPU] possible_devices_=[]\nRngReadAndSkip: CPU \n_Arg: GPU CPU \n\nColocation members, user-requested devices, and framework assigned devices, if any:\n  sequential_12_random_flip_7_stateful_uniform_full_int_rngreadandskip_resource (_Arg)  framework assigned device=/job:localhost/replica:0/task:0/device:GPU:0\n  sequential_12/random_flip_7/stateful_uniform_full_int/RngReadAndSkip (RngReadAndSkip) \n\n\t [[{{node sequential_12/random_flip_7/stateful_uniform_full_int/RngReadAndSkip}}]] [Op:MakeIterator]",
     "output_type": "error",
     "traceback": [
      "\u001B[0;31m---------------------------------------------------------------------------\u001B[0m",
      "\u001B[0;31mInvalidArgumentError\u001B[0m                      Traceback (most recent call last)",
      "\u001B[0;32m/var/folders/xs/2c84jclj465gc9tj7tcn9p_80000gn/T/ipykernel_6738/809445031.py\u001B[0m in \u001B[0;36m<module>\u001B[0;34m\u001B[0m\n\u001B[1;32m      1\u001B[0m \u001B[0mepochs\u001B[0m \u001B[0;34m=\u001B[0m \u001B[0;36m15\u001B[0m\u001B[0;34m\u001B[0m\u001B[0;34m\u001B[0m\u001B[0m\n\u001B[0;32m----> 2\u001B[0;31m history = model.fit(\n\u001B[0m\u001B[1;32m      3\u001B[0m   \u001B[0maugmented_train_ds\u001B[0m\u001B[0;34m,\u001B[0m\u001B[0;34m\u001B[0m\u001B[0;34m\u001B[0m\u001B[0m\n\u001B[1;32m      4\u001B[0m   \u001B[0mvalidation_data\u001B[0m\u001B[0;34m=\u001B[0m\u001B[0mtest_ds\u001B[0m\u001B[0;34m,\u001B[0m\u001B[0;34m\u001B[0m\u001B[0;34m\u001B[0m\u001B[0m\n\u001B[1;32m      5\u001B[0m   \u001B[0mepochs\u001B[0m\u001B[0;34m=\u001B[0m\u001B[0mepochs\u001B[0m\u001B[0;34m\u001B[0m\u001B[0;34m\u001B[0m\u001B[0m\n",
      "\u001B[0;32m~/Documents/tfm_rquel/model/.virtualenvs/model/lib/python3.8/site-packages/keras/utils/traceback_utils.py\u001B[0m in \u001B[0;36merror_handler\u001B[0;34m(*args, **kwargs)\u001B[0m\n\u001B[1;32m     65\u001B[0m     \u001B[0;32mexcept\u001B[0m \u001B[0mException\u001B[0m \u001B[0;32mas\u001B[0m \u001B[0me\u001B[0m\u001B[0;34m:\u001B[0m  \u001B[0;31m# pylint: disable=broad-except\u001B[0m\u001B[0;34m\u001B[0m\u001B[0;34m\u001B[0m\u001B[0m\n\u001B[1;32m     66\u001B[0m       \u001B[0mfiltered_tb\u001B[0m \u001B[0;34m=\u001B[0m \u001B[0m_process_traceback_frames\u001B[0m\u001B[0;34m(\u001B[0m\u001B[0me\u001B[0m\u001B[0;34m.\u001B[0m\u001B[0m__traceback__\u001B[0m\u001B[0;34m)\u001B[0m\u001B[0;34m\u001B[0m\u001B[0;34m\u001B[0m\u001B[0m\n\u001B[0;32m---> 67\u001B[0;31m       \u001B[0;32mraise\u001B[0m \u001B[0me\u001B[0m\u001B[0;34m.\u001B[0m\u001B[0mwith_traceback\u001B[0m\u001B[0;34m(\u001B[0m\u001B[0mfiltered_tb\u001B[0m\u001B[0;34m)\u001B[0m \u001B[0;32mfrom\u001B[0m \u001B[0;32mNone\u001B[0m\u001B[0;34m\u001B[0m\u001B[0;34m\u001B[0m\u001B[0m\n\u001B[0m\u001B[1;32m     68\u001B[0m     \u001B[0;32mfinally\u001B[0m\u001B[0;34m:\u001B[0m\u001B[0;34m\u001B[0m\u001B[0;34m\u001B[0m\u001B[0m\n\u001B[1;32m     69\u001B[0m       \u001B[0;32mdel\u001B[0m \u001B[0mfiltered_tb\u001B[0m\u001B[0;34m\u001B[0m\u001B[0;34m\u001B[0m\u001B[0m\n",
      "\u001B[0;32m~/Documents/tfm_rquel/model/.virtualenvs/model/lib/python3.8/site-packages/tensorflow/python/framework/ops.py\u001B[0m in \u001B[0;36mraise_from_not_ok_status\u001B[0;34m(e, name)\u001B[0m\n\u001B[1;32m   7105\u001B[0m \u001B[0;32mdef\u001B[0m \u001B[0mraise_from_not_ok_status\u001B[0m\u001B[0;34m(\u001B[0m\u001B[0me\u001B[0m\u001B[0;34m,\u001B[0m \u001B[0mname\u001B[0m\u001B[0;34m)\u001B[0m\u001B[0;34m:\u001B[0m\u001B[0;34m\u001B[0m\u001B[0;34m\u001B[0m\u001B[0m\n\u001B[1;32m   7106\u001B[0m   \u001B[0me\u001B[0m\u001B[0;34m.\u001B[0m\u001B[0mmessage\u001B[0m \u001B[0;34m+=\u001B[0m \u001B[0;34m(\u001B[0m\u001B[0;34m\" name: \"\u001B[0m \u001B[0;34m+\u001B[0m \u001B[0mname\u001B[0m \u001B[0;32mif\u001B[0m \u001B[0mname\u001B[0m \u001B[0;32mis\u001B[0m \u001B[0;32mnot\u001B[0m \u001B[0;32mNone\u001B[0m \u001B[0;32melse\u001B[0m \u001B[0;34m\"\"\u001B[0m\u001B[0;34m)\u001B[0m\u001B[0;34m\u001B[0m\u001B[0;34m\u001B[0m\u001B[0m\n\u001B[0;32m-> 7107\u001B[0;31m   \u001B[0;32mraise\u001B[0m \u001B[0mcore\u001B[0m\u001B[0;34m.\u001B[0m\u001B[0m_status_to_exception\u001B[0m\u001B[0;34m(\u001B[0m\u001B[0me\u001B[0m\u001B[0;34m)\u001B[0m \u001B[0;32mfrom\u001B[0m \u001B[0;32mNone\u001B[0m  \u001B[0;31m# pylint: disable=protected-access\u001B[0m\u001B[0;34m\u001B[0m\u001B[0;34m\u001B[0m\u001B[0m\n\u001B[0m\u001B[1;32m   7108\u001B[0m \u001B[0;34m\u001B[0m\u001B[0m\n\u001B[1;32m   7109\u001B[0m \u001B[0;34m\u001B[0m\u001B[0m\n",
      "\u001B[0;31mInvalidArgumentError\u001B[0m: Cannot assign a device for operation sequential_12/random_flip_7/stateful_uniform_full_int/RngReadAndSkip: Could not satisfy explicit device specification '' because the node {{colocation_node sequential_12/random_flip_7/stateful_uniform_full_int/RngReadAndSkip}} was colocated with a group of nodes that required incompatible device '/job:localhost/replica:0/task:0/device:GPU:0'. All available devices [/job:localhost/replica:0/task:0/device:CPU:0, /job:localhost/replica:0/task:0/device:GPU:0]. \nColocation Debug Info:\nColocation group had the following types and supported devices: \nRoot Member(assigned_device_name_index_=2 requested_device_name_='/job:localhost/replica:0/task:0/device:GPU:0' assigned_device_name_='/job:localhost/replica:0/task:0/device:GPU:0' resource_device_name_='/job:localhost/replica:0/task:0/device:GPU:0' supported_device_types_=[CPU] possible_devices_=[]\nRngReadAndSkip: CPU \n_Arg: GPU CPU \n\nColocation members, user-requested devices, and framework assigned devices, if any:\n  sequential_12_random_flip_7_stateful_uniform_full_int_rngreadandskip_resource (_Arg)  framework assigned device=/job:localhost/replica:0/task:0/device:GPU:0\n  sequential_12/random_flip_7/stateful_uniform_full_int/RngReadAndSkip (RngReadAndSkip) \n\n\t [[{{node sequential_12/random_flip_7/stateful_uniform_full_int/RngReadAndSkip}}]] [Op:MakeIterator]"
     ]
    }
   ],
   "source": [
    "epochs = 15\n",
    "history = model.fit(\n",
    "  augmented_train_ds,\n",
    "  validation_data=test_ds,\n",
    "  epochs=epochs\n",
    ")"
   ]
  },
  {
   "cell_type": "code",
   "execution_count": null,
   "metadata": {},
   "outputs": [],
   "source": [
    "acc = history.history['accuracy']\n",
    "val_acc = history.history['val_accuracy']\n",
    "\n",
    "loss = history.history['loss']\n",
    "val_loss = history.history['val_loss']\n",
    "\n",
    "epochs_range = range(epochs)\n",
    "\n",
    "plt.figure(figsize=(8, 8))\n",
    "plt.subplot(1, 2, 1)\n",
    "plt.plot(epochs_range, acc, label='Training Accuracy')\n",
    "plt.plot(epochs_range, val_acc, label='Validation Accuracy')\n",
    "plt.legend(loc='lower right')\n",
    "plt.title('Training and Validation Accuracy')\n",
    "\n",
    "plt.subplot(1, 2, 2)\n",
    "plt.plot(epochs_range, loss, label='Training Loss')\n",
    "plt.plot(epochs_range, val_loss, label='Validation Loss')\n",
    "plt.legend(loc='upper right')\n",
    "plt.title('Training and Validation Loss')\n",
    "plt.show()"
   ]
  },
  {
   "cell_type": "code",
   "execution_count": null,
   "metadata": {},
   "outputs": [],
   "source": [
    "test_loss, test_acc = model.evaluate(validation_ds, verbose=2)\n",
    "\n",
    "print(test_acc)\n"
   ]
  },
  {
   "cell_type": "markdown",
   "metadata": {
    "id": "4sF0_s6g11CL"
   },
   "source": [
    "# Developing model for a web application"
   ]
  },
  {
   "cell_type": "markdown",
   "metadata": {
    "id": "T6iQhrz0JMjr"
   },
   "source": [
    "## Saving model"
   ]
  },
  {
   "cell_type": "code",
   "execution_count": null,
   "metadata": {
    "colab": {
     "base_uri": "https://localhost:8080/"
    },
    "executionInfo": {
     "elapsed": 2012,
     "status": "ok",
     "timestamp": 1639063895266,
     "user": {
      "displayName": "Raquel Sauras Salas",
      "photoUrl": "https://lh3.googleusercontent.com/a/default-user=s64",
      "userId": "14105029251468193778"
     },
     "user_tz": -60
    },
    "id": "9jwyNb6VJO1t",
    "outputId": "04b8daab-2960-4e3c-9458-b47c353db786",
    "pycharm": {
     "name": "#%%\n"
    }
   },
   "outputs": [],
   "source": [
    "import tempfile\n",
    "import os\n",
    "\n",
    "MODEL_DIR = os.path.join(dataset_path, \"model\")\n",
    "version = 1\n",
    "export_path = os.path.join(MODEL_DIR, str(version))\n",
    "print(f'export_path = {export_path}')\n",
    "\n",
    "tf.keras.models.save_model(\n",
    "    model,\n",
    "    export_path,\n",
    "    overwrite=True,\n",
    "    include_optimizer=True,\n",
    "    save_format='test.h5',\n",
    "    signatures=None,\n",
    "    options=None\n",
    ")\n",
    "\n",
    "print('Saved model:')\n",
    "!ls -l {export_path}\n",
    "\n",
    "\n",
    "\n",
    "\n"
   ]
  }
 ],
 "metadata": {
  "colab": {
   "authorship_tag": "ABX9TyO0fFqvzU4z0W5TFO9DwXHJ",
   "collapsed_sections": [],
   "mount_file_id": "1O1VW51jrzftURx1uAfk-axKu4zQgmUxD",
   "name": "tfm_fase2.ipynb",
   "provenance": [
    {
     "file_id": "1O1VW51jrzftURx1uAfk-axKu4zQgmUxD",
     "timestamp": 1638728297019
    }
   ]
  },
  "kernelspec": {
   "display_name": "Python 3 (ipykernel)",
   "language": "python",
   "name": "python3"
  },
  "language_info": {
   "codemirror_mode": {
    "name": "ipython",
    "version": 3
   },
   "file_extension": ".py",
   "mimetype": "text/x-python",
   "name": "python",
   "nbconvert_exporter": "python",
   "pygments_lexer": "ipython3",
   "version": "3.8.9"
  }
 },
 "nbformat": 4,
 "nbformat_minor": 1
}